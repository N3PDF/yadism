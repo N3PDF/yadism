{
 "cells": [
  {
   "cell_type": "markdown",
   "metadata": {},
   "source": [
    "# Speed up lambda nesting\n",
    "\n",
    "### Define machinery\n",
    "Define some functions to benchmark alternatives."
   ]
  },
  {
   "cell_type": "code",
   "execution_count": 1,
   "metadata": {},
   "outputs": [],
   "source": [
    "import timeit\n",
    "\n",
    "import numpy as np\n",
    "import matplotlib.pyplot as plt\n",
    "import seaborn as sns\n",
    "import pandas as pd"
   ]
  },
  {
   "cell_type": "code",
   "execution_count": 2,
   "metadata": {},
   "outputs": [
    {
     "data": {
      "text/plain": [
       "(1.8255499162478374e-05, 4.855875611440968e-06)"
      ]
     },
     "execution_count": 2,
     "metadata": {},
     "output_type": "execute_result"
    }
   ],
   "source": [
    "def benchmark(func, number=100, repeat=10):\n",
    "    times = timeit.repeat(func, number=number, repeat=repeat)\n",
    "    return np.mean(times), np.std(times)\n",
    "\n",
    "# test\n",
    "def f1(x): return x\n",
    "\n",
    "benchmark(lambda: f1(1))"
   ]
  },
  {
   "cell_type": "code",
   "execution_count": 3,
   "metadata": {},
   "outputs": [
    {
     "data": {
      "image/png": "[encoded data removed]",
      "text/plain": [
       "<Figure size 1080x360 with 1 Axes>"
      ]
     },
     "metadata": {
      "needs_background": "light"
     },
     "output_type": "display_data"
    }
   ],
   "source": [
    "def compare(*func_list, number=100, repeat=10):\n",
    "    try:\n",
    "        iter(func_list[0])\n",
    "        func_list = func_list[0]\n",
    "    except:\n",
    "        pass\n",
    "    \n",
    "    times = pd.DataFrame(columns=['function', 'time']) \n",
    "    for i, func in enumerate(func_list):\n",
    "        ts = timeit.repeat(func, number=1, repeat=repeat)\n",
    "        # replace i with https://www.google.com/search?client=firefox-b-e&q=function+name+python\n",
    "        times = times.append([{'function': func.__name__,'time': t} for t in ts], ignore_index=True)\n",
    "        \n",
    "    plt.figure(figsize=[15,5])\n",
    "    sns.boxenplot(x=\"function\", y=\"time\", data=times, k_depth=\"proportion\", outlier_prop=0.15)\n",
    "    return times\n",
    "\n",
    "# test\n",
    "def f1(): return 1\n",
    "def f2(): return 2\n",
    "\n",
    "number = 1000\n",
    "repeat = 1000\n",
    "\n",
    "x = compare([f1, f2], number, repeat)"
   ]
  },
  {
   "cell_type": "markdown",
   "metadata": {},
   "source": [
    "## Profile nesting criticalities\n",
    "Find out how much and exactly where nesting lambdas slow down the computation."
   ]
  },
  {
   "cell_type": "code",
   "execution_count": 4,
   "metadata": {},
   "outputs": [
    {
     "data": {
      "text/plain": [
       "(0.580287327599217, 0.006227147203798476)"
      ]
     },
     "execution_count": 4,
     "metadata": {},
     "output_type": "execute_result"
    }
   ],
   "source": [
    "def test_factory(n):\n",
    "    identity = lambda x: x\n",
    "    res = identity\n",
    "    for j in range(n):\n",
    "        res = identity(res)\n",
    "        \n",
    "    return res\n",
    "\n",
    "benchmark(lambda: test_factory(int(1e5)))"
   ]
  },
  {
   "cell_type": "code",
   "execution_count": 5,
   "metadata": {},
   "outputs": [
    {
     "data": {
      "image/png": "[encoded data removed]",
      "text/plain": [
       "<Figure size 1080x360 with 1 Axes>"
      ]
     },
     "metadata": {
      "needs_background": "light"
     },
     "output_type": "display_data"
    }
   ],
   "source": [
    "l = [100, 300, 1000, 3000, 10000]\n",
    "for i in l:\n",
    "    exec(f\"def factory{i}(): return test_factory({i}); factory\")\n",
    "f_list = [eval(f\"factory{i}\") for i in l]\n",
    "\n",
    "x = compare(f_list, 1000, 1000)"
   ]
  },
  {
   "cell_type": "markdown",
   "metadata": {},
   "source": [
    "## Solutions with `numba`\n",
    "Cook up solutions using `numba` library:\n",
    "- inlining\n",
    "- ...\n",
    "- ...\n",
    "\n",
    "### Inlining"
   ]
  }
 ],
 "metadata": {
  "kernelspec": {
   "display_name": "Python 3",
   "language": "python",
   "name": "python3"
  },
  "language_info": {
   "codemirror_mode": {
    "name": "ipython",
    "version": 3
   },
   "file_extension": ".py",
   "mimetype": "text/x-python",
   "name": "python",
   "nbconvert_exporter": "python",
   "pygments_lexer": "ipython3",
   "version": "3.7.3"
  }
 },
 "nbformat": 4,
 "nbformat_minor": 4
}
