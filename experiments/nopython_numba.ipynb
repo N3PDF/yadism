{
 "cells": [
  {
   "cell_type": "code",
   "execution_count": 57,
   "metadata": {},
   "outputs": [],
   "source": [
    "import numba as nb"
   ]
  },
  {
   "cell_type": "code",
   "execution_count": 56,
   "metadata": {
    "scrolled": true
   },
   "outputs": [
    {
     "name": "stdout",
     "output_type": "stream",
     "text": [
      "49\n",
      "Numba error\n"
     ]
    }
   ],
   "source": [
    "a = lambda x: 2 * x + 3\n",
    "b = lambda x, a=a: a(x) ** 2\n",
    "\n",
    "try:\n",
    "    print(b(2))\n",
    "    b_n = nb.njit(b)\n",
    "    print(b_n(2))\n",
    "except Exception as e:\n",
    "    print(\"Numba error\")\n",
    "#     raise e"
   ]
  },
  {
   "cell_type": "code",
   "execution_count": 52,
   "metadata": {},
   "outputs": [
    {
     "name": "stdout",
     "output_type": "stream",
     "text": [
      "49\n",
      "Numba error\n"
     ]
    }
   ],
   "source": [
    "i = lambda x: x\n",
    "\n",
    "def b(x, i=i):\n",
    "    @i\n",
    "    def a(x):\n",
    "        return 2 * x + 3\n",
    "\n",
    "    return a(x) ** 2\n",
    "\n",
    "try:\n",
    "    print(b(2))\n",
    "    b_n = nb.njit(b)\n",
    "    print(b_n(2))\n",
    "except Exception as e:\n",
    "    print(\"Numba error\")\n",
    "#     raise e"
   ]
  },
  {
   "cell_type": "code",
   "execution_count": 53,
   "metadata": {
    "scrolled": true
   },
   "outputs": [
    {
     "name": "stdout",
     "output_type": "stream",
     "text": [
      "49\n",
      "Numba error\n"
     ]
    }
   ],
   "source": [
    "def b(x):\n",
    "    if x > 0.3:\n",
    "        @nb.njit\n",
    "        def a(x):\n",
    "            return 2 * x + 3\n",
    "\n",
    "    else:\n",
    "        @nb.njit\n",
    "        def a(x):\n",
    "            return x * 3\n",
    "\n",
    "    a(0)\n",
    "    return a(x) ** 2\n",
    "\n",
    "try:\n",
    "    print(b(2))\n",
    "    b_n = nb.njit(b)\n",
    "    print(b_n(2))\n",
    "except Exception as e:\n",
    "    print(\"Numba error\")\n",
    "#     raise e"
   ]
  },
  {
   "cell_type": "code",
   "execution_count": 9,
   "metadata": {},
   "outputs": [
    {
     "name": "stdout",
     "output_type": "stream",
     "text": [
      "9\n",
      "9\n"
     ]
    }
   ],
   "source": [
    "def b(x):\n",
    "    if x > 0.3:\n",
    "        a = 3\n",
    "    else:\n",
    "        a = 10\n",
    "\n",
    "    return a ** 2\n",
    "\n",
    "try:\n",
    "    print(b(2))\n",
    "    b_n = nb.njit(b)\n",
    "    print(b_n(2))\n",
    "except Exception as e:\n",
    "    print(\"Numba error\")\n",
    "    raise e"
   ]
  },
  {
   "cell_type": "markdown",
   "metadata": {},
   "source": [
    "## Class"
   ]
  },
  {
   "cell_type": "code",
   "execution_count": 75,
   "metadata": {},
   "outputs": [
    {
     "name": "stdout",
     "output_type": "stream",
     "text": [
      "f\n",
      "g\n",
      "f\n",
      "g\n"
     ]
    },
    {
     "data": {
      "text/plain": [
       "9"
      ]
     },
     "execution_count": 75,
     "metadata": {},
     "output_type": "execute_result"
    }
   ],
   "source": [
    "def f(x):\n",
    "    print('f')\n",
    "    return x\n",
    "\n",
    "def g(x):\n",
    "    print('g')\n",
    "    return x\n",
    "\n",
    "@g\n",
    "@f\n",
    "def a(x):\n",
    "    return 2 * x + 3\n",
    "\n",
    "def ar(x):\n",
    "    return 2 * x + 3\n",
    "\n",
    "a(3)\n",
    "g(f(a(3)))"
   ]
  },
  {
   "cell_type": "code",
   "execution_count": 83,
   "metadata": {},
   "outputs": [
    {
     "data": {
      "text/plain": [
       "5"
      ]
     },
     "execution_count": 83,
     "metadata": {},
     "output_type": "execute_result"
    }
   ],
   "source": [
    "class Cls:\n",
    "    a = staticmethod(nb.njit(lambda x: 2 * x + 3))\n",
    "    \n",
    "    def b(self, x):\n",
    "        return self.a(x) ** 2\n",
    "\n",
    "c = Cls()\n",
    "c.a(1)"
   ]
  },
  {
   "cell_type": "code",
   "execution_count": 89,
   "metadata": {},
   "outputs": [
    {
     "name": "stdout",
     "output_type": "stream",
     "text": [
      "7\n",
      "7\n"
     ]
    }
   ],
   "source": [
    "CF = 5\n",
    "\n",
    "@nb.njit\n",
    "def creg(x):\n",
    "    return CF * x + 1\n",
    "\n",
    "CF = 3\n",
    "print(creg(2))\n",
    "CF = 5\n",
    "print(creg(2))"
   ]
  },
  {
   "cell_type": "code",
   "execution_count": 93,
   "metadata": {},
   "outputs": [
    {
     "name": "stdout",
     "output_type": "stream",
     "text": [
      "3\n",
      "1\n",
      "5\n",
      "ciao\n",
      "7\n",
      "1.0\n"
     ]
    }
   ],
   "source": [
    "@nb.njit\n",
    "def t(x):\n",
    "    print(CF)\n",
    "    return x\n",
    "\n",
    "CF=3\n",
    "print(t(1))\n",
    "CF=5\n",
    "print(t(\"ciao\"))\n",
    "CF=7\n",
    "print(t(1.))"
   ]
  }
 ],
 "metadata": {
  "kernelspec": {
   "display_name": "Python 3",
   "language": "python",
   "name": "python3"
  },
  "language_info": {
   "codemirror_mode": {
    "name": "ipython",
    "version": 3
   },
   "file_extension": ".py",
   "mimetype": "text/x-python",
   "name": "python",
   "nbconvert_exporter": "python",
   "pygments_lexer": "ipython3",
   "version": "3.8.2"
  }
 },
 "nbformat": 4,
 "nbformat_minor": 4
}
