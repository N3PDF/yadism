{
 "cells": [
  {
   "cell_type": "code",
   "execution_count": 1,
   "metadata": {},
   "outputs": [],
   "source": [
    "import sympy as sy\n",
    "import numpy as np"
   ]
  },
  {
   "cell_type": "markdown",
   "metadata": {},
   "source": [
    "# R integral"
   ]
  },
  {
   "cell_type": "code",
   "execution_count": 2,
   "metadata": {},
   "outputs": [],
   "source": [
    "x, l, z = sy.symbols(\"x l z\")"
   ]
  },
  {
   "cell_type": "code",
   "execution_count": 3,
   "metadata": {},
   "outputs": [],
   "source": [
    "abs_fs = [sy.log(z), sy.log(1-z), sy.log(z)**2, sy.log(z) * sy.log(1-z), sy.log(1-z)**2, sy.polylog(2,z)]\n",
    "args = [1-l, 1-l*x]"
   ]
  },
  {
   "cell_type": "code",
   "execution_count": 4,
   "metadata": {},
   "outputs": [],
   "source": [
    "coeffs = [np.array(sy.symbols(\" \".join([f\"{s}{n}\" for n in range(6)]))) for s in [\"a\", \"b\"]]"
   ]
  },
  {
   "cell_type": "code",
   "execution_count": 5,
   "metadata": {},
   "outputs": [],
   "source": [
    "fs = {arg: np.array([expr.subs(z, arg) for expr in abs_fs]) * coeff for arg, coeff in zip(args, coeffs)}"
   ]
  },
  {
   "cell_type": "code",
   "execution_count": 6,
   "metadata": {},
   "outputs": [
    {
     "data": {
      "text/latex": [
       "$\\displaystyle a_{2} \\log{\\left(1 - l \\right)}^{2}$"
      ],
      "text/plain": [
       "a2*log(1 - l)**2"
      ]
     },
     "execution_count": 6,
     "metadata": {},
     "output_type": "execute_result"
    }
   ],
   "source": [
    "fs[1-l][2]"
   ]
  },
  {
   "cell_type": "markdown",
   "metadata": {},
   "source": [
    "## From ansatz"
   ]
  },
  {
   "cell_type": "markdown",
   "metadata": {},
   "source": [
    "### Take derivatives"
   ]
  },
  {
   "cell_type": "code",
   "execution_count": 7,
   "metadata": {},
   "outputs": [
    {
     "data": {
      "text/plain": [
       "{1 - l: [0, -l], -l*x + 1: [0, -l]}"
      ]
     },
     "execution_count": 7,
     "metadata": {},
     "output_type": "execute_result"
    }
   ],
   "source": [
    "dfsdx = {}\n",
    "for arg in args:\n",
    "    dfsdx[arg] = [sy.diff(expr.subs(z, arg), x) for expr in fs]\n",
    "dfsdx"
   ]
  },
  {
   "cell_type": "code",
   "execution_count": 8,
   "metadata": {
    "scrolled": true
   },
   "outputs": [
    {
     "data": {
      "text/plain": [
       "{1 - l: [-1, -x], -l*x + 1: [-1, -x]}"
      ]
     },
     "execution_count": 8,
     "metadata": {},
     "output_type": "execute_result"
    }
   ],
   "source": [
    "dfsdl= {}\n",
    "for arg in args:\n",
    "    dfsdl[arg] = [sy.diff(expr.subs(z, arg), l) for expr in fs]\n",
    "dfsdl"
   ]
  },
  {
   "cell_type": "markdown",
   "metadata": {},
   "source": [
    "### Impose boundary conditions"
   ]
  },
  {
   "cell_type": "markdown",
   "metadata": {},
   "source": [
    "$$ \\frac{d f}{d \\lambda}(x = 0, \\lambda) = 0 $$"
   ]
  },
  {
   "cell_type": "code",
   "execution_count": 9,
   "metadata": {},
   "outputs": [
    {
     "data": {
      "text/plain": [
       "{1 - l: [-1, 0], -l*x + 1: [-1, 0]}"
      ]
     },
     "execution_count": 9,
     "metadata": {},
     "output_type": "execute_result"
    }
   ],
   "source": [
    "{arg: [expr.subs(x, 0) for expr in exprs] for arg, exprs in dfsdl.items()}"
   ]
  },
  {
   "cell_type": "markdown",
   "metadata": {},
   "source": [
    "$$ \\frac{d f}{d x}(x, \\lambda=0) = 0 $$"
   ]
  },
  {
   "cell_type": "markdown",
   "metadata": {},
   "source": [
    "## Integrate directly"
   ]
  },
  {
   "cell_type": "code",
   "execution_count": 10,
   "metadata": {},
   "outputs": [],
   "source": [
    "r_integral = sy.integrate(sy.log(1- z* l)/(1-z), (z,0,x))"
   ]
  },
  {
   "cell_type": "code",
   "execution_count": 11,
   "metadata": {},
   "outputs": [
    {
     "data": {
      "text/latex": [
       "$\\displaystyle - \\int\\limits_{0}^{x} \\frac{\\log{\\left(- l z + 1 \\right)}}{z - 1}\\, dz$"
      ],
      "text/plain": [
       "-Integral(log(-l*z + 1)/(z - 1), (z, 0, x))"
      ]
     },
     "execution_count": 11,
     "metadata": {},
     "output_type": "execute_result"
    }
   ],
   "source": [
    "r_integral"
   ]
  },
  {
   "cell_type": "markdown",
   "metadata": {},
   "source": [
    "# B coefficients"
   ]
  },
  {
   "cell_type": "markdown",
   "metadata": {},
   "source": [
    "## B3 integral"
   ]
  },
  {
   "cell_type": "code",
   "execution_count": 17,
   "metadata": {},
   "outputs": [],
   "source": [
    "b3_integral = sy.integrate((1-z)/(1- z* l)**2, (z,0,x))"
   ]
  },
  {
   "cell_type": "code",
   "execution_count": 18,
   "metadata": {},
   "outputs": [
    {
     "data": {
      "text/latex": [
       "$\\displaystyle - \\frac{l - 1}{l^{3} x - l^{2}} - \\frac{l - 1}{l^{2}} - \\frac{\\log{\\left(l x - 1 \\right)}}{l^{2}} + \\frac{i \\pi}{l^{2}}$"
      ],
      "text/plain": [
       "-(l - 1)/(l**3*x - l**2) - (l - 1)/l**2 - log(l*x - 1)/l**2 + I*pi/l**2"
      ]
     },
     "execution_count": 18,
     "metadata": {},
     "output_type": "execute_result"
    }
   ],
   "source": [
    "b3_integral"
   ]
  },
  {
   "cell_type": "code",
   "execution_count": 22,
   "metadata": {},
   "outputs": [
    {
     "data": {
      "text/plain": [
       "'-(self.labda - 1)/(self.labda**3*x - self.labda**2) - (self.labda - 1)/self.labda**2 - log(self.labda*x - 1)/self.labda**2 + I*pi/self.labda**2'"
      ]
     },
     "execution_count": 22,
     "metadata": {},
     "output_type": "execute_result"
    }
   ],
   "source": [
    "lam = sy.symbols(\"self.labda\")\n",
    "str(b3_integral.subs(l, lam))"
   ]
  },
  {
   "cell_type": "markdown",
   "metadata": {},
   "source": [
    "# C coefficients"
   ]
  },
  {
   "cell_type": "code",
   "execution_count": 35,
   "metadata": {},
   "outputs": [
    {
     "data": {
      "text/plain": [
       "'8*self.labda**2 - 6*self.labda + 2'"
      ]
     },
     "execution_count": 35,
     "metadata": {},
     "output_type": "execute_result"
    }
   ],
   "source": [
    "c1_2 = 8 - 18 * (1 - l) + 12 * (1 - l) ** 2\n",
    "c1_1 = 4 - 4 * (1 - l)\n",
    "\n",
    "c1_l = c1_2 - l*c1_1\n",
    "str(sy.simplify(c1_l).subs(l, lam))"
   ]
  },
  {
   "cell_type": "code",
   "execution_count": 36,
   "metadata": {},
   "outputs": [
    {
     "data": {
      "text/plain": [
       "'0'"
      ]
     },
     "execution_count": 36,
     "metadata": {},
     "output_type": "execute_result"
    }
   ],
   "source": [
    "c2_2 = (1 - l) / (1 - l * z) - 1\n",
    "c2_1 = (1 - l) * z / (1 - l * z) - 1\n",
    "\n",
    "c2_l = c2_2 - l * c2_1\n",
    "str(sy.simplify(c2_l).subs(l, lam))"
   ]
  },
  {
   "cell_type": "code",
   "execution_count": 41,
   "metadata": {},
   "outputs": [
    {
     "data": {
      "text/plain": [
       "'4*self.labda'"
      ]
     },
     "execution_count": 41,
     "metadata": {},
     "output_type": "execute_result"
    }
   ],
   "source": [
    "c3_2 = 6*l\n",
    "c3_1 = 2\n",
    "\n",
    "c3_l = c3_2 - l * c3_1\n",
    "str(sy.simplify(c3_l).subs(l, lam))"
   ]
  },
  {
   "cell_type": "code",
   "execution_count": 42,
   "metadata": {},
   "outputs": [
    {
     "data": {
      "text/plain": [
       "'-8*self.labda'"
      ]
     },
     "execution_count": 42,
     "metadata": {},
     "output_type": "execute_result"
    }
   ],
   "source": [
    "c4_2 = -12*l\n",
    "c4_1 = -4\n",
    "\n",
    "c4_l = c4_2 - l * c4_1\n",
    "str(sy.simplify(c4_l).subs(l, lam))"
   ]
  }
 ],
 "metadata": {
  "kernelspec": {
   "display_name": "Python 3",
   "language": "python",
   "name": "python3"
  },
  "language_info": {
   "codemirror_mode": {
    "name": "ipython",
    "version": 3
   },
   "file_extension": ".py",
   "mimetype": "text/x-python",
   "name": "python",
   "nbconvert_exporter": "python",
   "pygments_lexer": "ipython3",
   "version": "3.8.4"
  }
 },
 "nbformat": 4,
 "nbformat_minor": 4
}
