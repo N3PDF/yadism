{
 "cells": [
  {
   "cell_type": "code",
   "execution_count": 35,
   "metadata": {},
   "outputs": [],
   "source": [
    "import sympy as sy\n",
    "import numpy as np"
   ]
  },
  {
   "cell_type": "code",
   "execution_count": 2,
   "metadata": {},
   "outputs": [],
   "source": [
    "x, l, z = sy.symbols(\"x l z\")"
   ]
  },
  {
   "cell_type": "code",
   "execution_count": 44,
   "metadata": {},
   "outputs": [],
   "source": [
    "abs_fs = [sy.log(z), sy.log(1-z), sy.log(z)**2, sy.log(z) * sy.log(1-z), sy.log(1-z)**2, sy.polylog(2,z)]\n",
    "args = [1-l, 1-l*x]"
   ]
  },
  {
   "cell_type": "code",
   "execution_count": 45,
   "metadata": {},
   "outputs": [],
   "source": [
    "coeffs = [np.array(sy.symbols(\" \".join([f\"{s}{n}\" for n in range(6)]))) for s in [\"a\", \"b\"]]"
   ]
  },
  {
   "cell_type": "code",
   "execution_count": 46,
   "metadata": {},
   "outputs": [],
   "source": [
    "fs = {arg: np.array([expr.subs(z, arg) for expr in abs_fs]) * coeff for arg, coeff in zip(args, coeffs)}"
   ]
  },
  {
   "cell_type": "code",
   "execution_count": 49,
   "metadata": {},
   "outputs": [
    {
     "data": {
      "text/latex": [
       "$\\displaystyle a_{2} \\log{\\left(1 - l \\right)}^{2}$"
      ],
      "text/plain": [
       "a2*log(1 - l)**2"
      ]
     },
     "execution_count": 49,
     "metadata": {},
     "output_type": "execute_result"
    }
   ],
   "source": [
    "fs[1-l][2]"
   ]
  },
  {
   "cell_type": "markdown",
   "metadata": {},
   "source": [
    "## From ansatz"
   ]
  },
  {
   "cell_type": "markdown",
   "metadata": {},
   "source": [
    "### Take derivatives"
   ]
  },
  {
   "cell_type": "code",
   "execution_count": 21,
   "metadata": {},
   "outputs": [
    {
     "data": {
      "text/plain": [
       "{1 - l: [0, 0, 0, 0, 0, 0],\n",
       " -l*x + 1: [-l/(-l*x + 1),\n",
       "  1/x,\n",
       "  -2*l*log(-l*x + 1)/(-l*x + 1),\n",
       "  -l*log(l*x)/(-l*x + 1) + log(-l*x + 1)/x,\n",
       "  2*log(l*x)/x,\n",
       "  -l*polylog(1, -l*x + 1)/(-l*x + 1)]}"
      ]
     },
     "execution_count": 21,
     "metadata": {},
     "output_type": "execute_result"
    }
   ],
   "source": [
    "dfsdx = {}\n",
    "for arg in args:\n",
    "    dfsdx[arg] = [sy.diff(expr.subs(z, arg), x) for expr in fs]\n",
    "dfsdx"
   ]
  },
  {
   "cell_type": "code",
   "execution_count": 22,
   "metadata": {
    "scrolled": true
   },
   "outputs": [
    {
     "data": {
      "text/plain": [
       "{1 - l: [-1/(1 - l),\n",
       "  1/l,\n",
       "  -2*log(1 - l)/(1 - l),\n",
       "  -log(l)/(1 - l) + log(1 - l)/l,\n",
       "  2*log(l)/l,\n",
       "  -polylog(1, 1 - l)/(1 - l)],\n",
       " -l*x + 1: [-x/(-l*x + 1),\n",
       "  1/l,\n",
       "  -2*x*log(-l*x + 1)/(-l*x + 1),\n",
       "  -x*log(l*x)/(-l*x + 1) + log(-l*x + 1)/l,\n",
       "  2*log(l*x)/l,\n",
       "  -x*polylog(1, -l*x + 1)/(-l*x + 1)]}"
      ]
     },
     "execution_count": 22,
     "metadata": {},
     "output_type": "execute_result"
    }
   ],
   "source": [
    "dfsdl= {}\n",
    "for arg in args:\n",
    "    dfsdl[arg] = [sy.diff(expr.subs(z, arg), l) for expr in fs]\n",
    "dfsdl"
   ]
  },
  {
   "cell_type": "markdown",
   "metadata": {},
   "source": [
    "### Impose boundary conditions"
   ]
  },
  {
   "cell_type": "markdown",
   "metadata": {},
   "source": [
    "$$ \\frac{d f}{d \\lambda}(x = 0, \\lambda) = 0 $$"
   ]
  },
  {
   "cell_type": "code",
   "execution_count": 23,
   "metadata": {},
   "outputs": [
    {
     "data": {
      "text/plain": [
       "{1 - l: [-1/(1 - l),\n",
       "  1/l,\n",
       "  -2*log(1 - l)/(1 - l),\n",
       "  -log(l)/(1 - l) + log(1 - l)/l,\n",
       "  2*log(l)/l,\n",
       "  -polylog(1, 1 - l)/(1 - l)],\n",
       " -l*x + 1: [0, 1/l, 0, nan, zoo/l, nan]}"
      ]
     },
     "execution_count": 23,
     "metadata": {},
     "output_type": "execute_result"
    }
   ],
   "source": [
    "{arg: [expr.subs(x, 0) for expr in exprs] for arg, exprs in dfsdl.items()}"
   ]
  },
  {
   "cell_type": "markdown",
   "metadata": {},
   "source": [
    "$$ \\frac{d f}{d x}(x, \\lambda=0) = 0 $$"
   ]
  },
  {
   "cell_type": "markdown",
   "metadata": {},
   "source": [
    "## Integrate directly"
   ]
  },
  {
   "cell_type": "code",
   "execution_count": 6,
   "metadata": {},
   "outputs": [],
   "source": [
    "integral = sy.integrate(sy.log(1- z* l)/(1-z), (z,0,x))"
   ]
  },
  {
   "cell_type": "code",
   "execution_count": 7,
   "metadata": {},
   "outputs": [
    {
     "data": {
      "text/latex": [
       "$\\displaystyle - \\int\\limits_{0}^{x} \\frac{\\log{\\left(- l z + 1 \\right)}}{z - 1}\\, dz$"
      ],
      "text/plain": [
       "-Integral(log(-l*z + 1)/(z - 1), (z, 0, x))"
      ]
     },
     "execution_count": 7,
     "metadata": {},
     "output_type": "execute_result"
    }
   ],
   "source": [
    "integral"
   ]
  }
 ],
 "metadata": {
  "kernelspec": {
   "display_name": "Python 3",
   "language": "python",
   "name": "python3"
  },
  "language_info": {
   "codemirror_mode": {
    "name": "ipython",
    "version": 3
   },
   "file_extension": ".py",
   "mimetype": "text/x-python",
   "name": "python",
   "nbconvert_exporter": "python",
   "pygments_lexer": "ipython3",
   "version": "3.8.4"
  }
 },
 "nbformat": 4,
 "nbformat_minor": 4
}
